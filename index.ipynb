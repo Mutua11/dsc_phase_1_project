{
 "cells": [
  {
   "cell_type": "markdown",
   "id": "7a1267bb",
   "metadata": {},
   "source": [
    "# PROJECT OVERVIEW\n",
    "\n",
    "Using data cleaning, imputation, analysis, and visualization to generate insights for a business stakeholder."
   ]
  },
  {
   "cell_type": "markdown",
   "id": "eb7b5d5c",
   "metadata": {},
   "source": [
    "# BUSINESS PROBLEM\n",
    "\n",
    "Your company is expanding in to new industries to diversify its portfolio. Specifically, they are interested in purchasing and operating airplanes for commercial and private enterprises, but do not know anything about the potential risks of aircraft. You are charged with determining which aircraft are the lowest risk for the company to start this new business endeavor. You must then translate your findings into actionable insights that the head of the new aviation division can use to help decide which aircraft to purchase."
   ]
  },
  {
   "cell_type": "markdown",
   "id": "a09cd40c",
   "metadata": {},
   "source": [
    "# BUSINESS UNDERSTANDING\n",
    "\n",
    "From the business problem, I understand that the company wants to join the aviation industry. since they have no knowledge on the potential risks of aircrafts, I need to analyse data from the past ongoings with aircrafts for them, get the best aircraft with less shortcomings and the best manufacturer for the company."
   ]
  },
  {
   "cell_type": "markdown",
   "id": "77ee06c9",
   "metadata": {},
   "source": [
    "# THE DATA\n",
    "\n",
    "In the data folder is a datasetLinks to an external site (https://www.kaggle.com/datasets/drealbash/aviation-accident-from-1919-2023/data) from the National Transportation Safety Board that includes aviation accident data from 1919 to 2023 about civil aviation accidents and selected incidents in the United States and international waters."
   ]
  },
  {
   "cell_type": "code",
   "execution_count": 36,
   "id": "51c8b95b",
   "metadata": {},
   "outputs": [],
   "source": [
    "#importing the necessary libraries\n",
    "import pandas as pd\n",
    "import numpy as np\n",
    "import matplotlib.pyplot as plt\n",
    "import seaborn as sns"
   ]
  },
  {
   "cell_type": "code",
   "execution_count": 37,
   "id": "b81f5561",
   "metadata": {},
   "outputs": [
    {
     "data": {
      "text/html": [
       "<div>\n",
       "<style scoped>\n",
       "    .dataframe tbody tr th:only-of-type {\n",
       "        vertical-align: middle;\n",
       "    }\n",
       "\n",
       "    .dataframe tbody tr th {\n",
       "        vertical-align: top;\n",
       "    }\n",
       "\n",
       "    .dataframe thead th {\n",
       "        text-align: right;\n",
       "    }\n",
       "</style>\n",
       "<table border=\"1\" class=\"dataframe\">\n",
       "  <thead>\n",
       "    <tr style=\"text-align: right;\">\n",
       "      <th></th>\n",
       "      <th>date</th>\n",
       "      <th>type</th>\n",
       "      <th>registration</th>\n",
       "      <th>operator</th>\n",
       "      <th>fatalities</th>\n",
       "      <th>location</th>\n",
       "      <th>country</th>\n",
       "      <th>cat</th>\n",
       "      <th>year</th>\n",
       "    </tr>\n",
       "  </thead>\n",
       "  <tbody>\n",
       "    <tr>\n",
       "      <th>0</th>\n",
       "      <td>date unk.</td>\n",
       "      <td>Antonov An-12B</td>\n",
       "      <td>T-1206</td>\n",
       "      <td>Indonesian AF</td>\n",
       "      <td>NaN</td>\n",
       "      <td>NaN</td>\n",
       "      <td>Unknown country</td>\n",
       "      <td>U1</td>\n",
       "      <td>unknown</td>\n",
       "    </tr>\n",
       "    <tr>\n",
       "      <th>1</th>\n",
       "      <td>date unk.</td>\n",
       "      <td>Antonov An-12B</td>\n",
       "      <td>T-1204</td>\n",
       "      <td>Indonesian AF</td>\n",
       "      <td>NaN</td>\n",
       "      <td>NaN</td>\n",
       "      <td>Unknown country</td>\n",
       "      <td>U1</td>\n",
       "      <td>unknown</td>\n",
       "    </tr>\n",
       "    <tr>\n",
       "      <th>2</th>\n",
       "      <td>date unk.</td>\n",
       "      <td>Antonov An-12B</td>\n",
       "      <td>T-1201</td>\n",
       "      <td>Indonesian AF</td>\n",
       "      <td>NaN</td>\n",
       "      <td>NaN</td>\n",
       "      <td>Unknown country</td>\n",
       "      <td>U1</td>\n",
       "      <td>unknown</td>\n",
       "    </tr>\n",
       "    <tr>\n",
       "      <th>3</th>\n",
       "      <td>date unk.</td>\n",
       "      <td>Antonov An-12BK</td>\n",
       "      <td>NaN</td>\n",
       "      <td>Soviet AF</td>\n",
       "      <td>NaN</td>\n",
       "      <td>Tiksi Airport (IKS)</td>\n",
       "      <td>Russia</td>\n",
       "      <td>A1</td>\n",
       "      <td>unknown</td>\n",
       "    </tr>\n",
       "    <tr>\n",
       "      <th>4</th>\n",
       "      <td>date unk.</td>\n",
       "      <td>Antonov An-12BP</td>\n",
       "      <td>CCCP-11815</td>\n",
       "      <td>Soviet AF</td>\n",
       "      <td>0</td>\n",
       "      <td>Massawa Airport ...</td>\n",
       "      <td>Eritrea</td>\n",
       "      <td>A1</td>\n",
       "      <td>unknown</td>\n",
       "    </tr>\n",
       "    <tr>\n",
       "      <th>...</th>\n",
       "      <td>...</td>\n",
       "      <td>...</td>\n",
       "      <td>...</td>\n",
       "      <td>...</td>\n",
       "      <td>...</td>\n",
       "      <td>...</td>\n",
       "      <td>...</td>\n",
       "      <td>...</td>\n",
       "      <td>...</td>\n",
       "    </tr>\n",
       "    <tr>\n",
       "      <th>23962</th>\n",
       "      <td>11-MAY-2023</td>\n",
       "      <td>Hawker 900XP</td>\n",
       "      <td>PK-LRU</td>\n",
       "      <td>Angkasa Super Services</td>\n",
       "      <td>0</td>\n",
       "      <td>Maleo Airport (MOH)</td>\n",
       "      <td>Indonesia</td>\n",
       "      <td>A2</td>\n",
       "      <td>2023</td>\n",
       "    </tr>\n",
       "    <tr>\n",
       "      <th>23963</th>\n",
       "      <td>11-MAY-2023</td>\n",
       "      <td>Cessna 208B Grand Caravan</td>\n",
       "      <td>PK-NGA</td>\n",
       "      <td>Nasional Global Aviasi</td>\n",
       "      <td>0</td>\n",
       "      <td>Fentheik Airstrip</td>\n",
       "      <td>Indonesia</td>\n",
       "      <td>A2</td>\n",
       "      <td>2023</td>\n",
       "    </tr>\n",
       "    <tr>\n",
       "      <th>23964</th>\n",
       "      <td>12-MAY-2023</td>\n",
       "      <td>Cessna 208B Grand Caravan</td>\n",
       "      <td>5X-RBR</td>\n",
       "      <td>Bar Aviation</td>\n",
       "      <td>0</td>\n",
       "      <td>Kampala-Kajjansi...</td>\n",
       "      <td>Uganda</td>\n",
       "      <td>A1</td>\n",
       "      <td>2023</td>\n",
       "    </tr>\n",
       "    <tr>\n",
       "      <th>23965</th>\n",
       "      <td>14-MAY-2023</td>\n",
       "      <td>Boeing 747-4R7F</td>\n",
       "      <td>LX-OCV</td>\n",
       "      <td>Cargolux</td>\n",
       "      <td>0</td>\n",
       "      <td>Luxembourg-Finde...</td>\n",
       "      <td>Luxembourg</td>\n",
       "      <td>A2</td>\n",
       "      <td>2023</td>\n",
       "    </tr>\n",
       "    <tr>\n",
       "      <th>23966</th>\n",
       "      <td>15-MAY-2023</td>\n",
       "      <td>Learjet 35A</td>\n",
       "      <td>D-CGFQ</td>\n",
       "      <td>GFD</td>\n",
       "      <td>2</td>\n",
       "      <td>Hohn Air Base</td>\n",
       "      <td>Germany</td>\n",
       "      <td>A1</td>\n",
       "      <td>2023</td>\n",
       "    </tr>\n",
       "  </tbody>\n",
       "</table>\n",
       "<p>23967 rows × 9 columns</p>\n",
       "</div>"
      ],
      "text/plain": [
       "              date                       type registration  \\\n",
       "0        date unk.             Antonov An-12B       T-1206   \n",
       "1        date unk.             Antonov An-12B       T-1204   \n",
       "2        date unk.             Antonov An-12B       T-1201   \n",
       "3        date unk.            Antonov An-12BK          NaN   \n",
       "4        date unk.            Antonov An-12BP   CCCP-11815   \n",
       "...            ...                        ...          ...   \n",
       "23962  11-MAY-2023               Hawker 900XP       PK-LRU   \n",
       "23963  11-MAY-2023  Cessna 208B Grand Caravan       PK-NGA   \n",
       "23964  12-MAY-2023  Cessna 208B Grand Caravan       5X-RBR   \n",
       "23965  14-MAY-2023            Boeing 747-4R7F       LX-OCV   \n",
       "23966  15-MAY-2023                Learjet 35A       D-CGFQ   \n",
       "\n",
       "                     operator fatalities             location  \\\n",
       "0               Indonesian AF        NaN                  NaN   \n",
       "1               Indonesian AF        NaN                  NaN   \n",
       "2               Indonesian AF        NaN                  NaN   \n",
       "3                   Soviet AF        NaN  Tiksi Airport (IKS)   \n",
       "4                   Soviet AF          0  Massawa Airport ...   \n",
       "...                       ...        ...                  ...   \n",
       "23962  Angkasa Super Services          0  Maleo Airport (MOH)   \n",
       "23963  Nasional Global Aviasi          0    Fentheik Airstrip   \n",
       "23964            Bar Aviation          0  Kampala-Kajjansi...   \n",
       "23965                Cargolux          0  Luxembourg-Finde...   \n",
       "23966                     GFD          2        Hohn Air Base   \n",
       "\n",
       "               country cat     year  \n",
       "0      Unknown country  U1  unknown  \n",
       "1      Unknown country  U1  unknown  \n",
       "2      Unknown country  U1  unknown  \n",
       "3               Russia  A1  unknown  \n",
       "4              Eritrea  A1  unknown  \n",
       "...                ...  ..      ...  \n",
       "23962        Indonesia  A2     2023  \n",
       "23963        Indonesia  A2     2023  \n",
       "23964           Uganda  A1     2023  \n",
       "23965       Luxembourg  A2     2023  \n",
       "23966          Germany  A1     2023  \n",
       "\n",
       "[23967 rows x 9 columns]"
      ]
     },
     "execution_count": 37,
     "metadata": {},
     "output_type": "execute_result"
    }
   ],
   "source": [
    "#loading the dataset\n",
    "df=pd.read_csv('aviation-accident-data-2023-05-16.csv')\n",
    "df"
   ]
  },
  {
   "cell_type": "markdown",
   "id": "de73abe8",
   "metadata": {},
   "source": [
    "# DATA UNDERSTANDING\n",
    "\n",
    "Here, I am checking for any misssing values and unneccesary values before cleaning and make use of the data by analysing it for the company."
   ]
  },
  {
   "cell_type": "code",
   "execution_count": 38,
   "id": "81278d25",
   "metadata": {},
   "outputs": [
    {
     "name": "stdout",
     "output_type": "stream",
     "text": [
      "<class 'pandas.core.frame.DataFrame'>\n",
      "RangeIndex: 23967 entries, 0 to 23966\n",
      "Data columns (total 9 columns):\n",
      " #   Column        Non-Null Count  Dtype \n",
      "---  ------        --------------  ----- \n",
      " 0   date          23967 non-null  object\n",
      " 1   type          23967 non-null  object\n",
      " 2   registration  22419 non-null  object\n",
      " 3   operator      23963 non-null  object\n",
      " 4   fatalities    20029 non-null  object\n",
      " 5   location      23019 non-null  object\n",
      " 6   country       23967 non-null  object\n",
      " 7   cat           23967 non-null  object\n",
      " 8   year          23967 non-null  object\n",
      "dtypes: object(9)\n",
      "memory usage: 1.6+ MB\n"
     ]
    }
   ],
   "source": [
    "#getting the summary of the dataset\n",
    "df.info()"
   ]
  },
  {
   "cell_type": "code",
   "execution_count": 39,
   "id": "4d47e986",
   "metadata": {},
   "outputs": [
    {
     "data": {
      "text/plain": [
       "date               0\n",
       "type               0\n",
       "registration    1548\n",
       "operator           4\n",
       "fatalities      3938\n",
       "location         948\n",
       "country            0\n",
       "cat                0\n",
       "year               0\n",
       "dtype: int64"
      ]
     },
     "execution_count": 39,
     "metadata": {},
     "output_type": "execute_result"
    }
   ],
   "source": [
    "#checking for missing values\n",
    "df.isna().sum()"
   ]
  },
  {
   "cell_type": "markdown",
   "id": "6b82e372",
   "metadata": {},
   "source": [
    "# DATA PREPARATION\n",
    "\n",
    "The data given contains some missing values that need to be removed. Therefore, in cleaning of the data, I will eliminate the missing values, check for duplicates and remove them."
   ]
  },
  {
   "cell_type": "code",
   "execution_count": 40,
   "id": "13142d4b",
   "metadata": {},
   "outputs": [],
   "source": [
    "#Droppinng the missing values\n",
    "df.dropna(inplace=True)"
   ]
  },
  {
   "cell_type": "code",
   "execution_count": 41,
   "id": "d7a8f296",
   "metadata": {},
   "outputs": [
    {
     "data": {
      "text/plain": [
       "date            0\n",
       "type            0\n",
       "registration    0\n",
       "operator        0\n",
       "fatalities      0\n",
       "location        0\n",
       "country         0\n",
       "cat             0\n",
       "year            0\n",
       "dtype: int64"
      ]
     },
     "execution_count": 41,
     "metadata": {},
     "output_type": "execute_result"
    }
   ],
   "source": [
    "#acertaining the number of missing values have been dropped\n",
    "df.isna().sum()"
   ]
  },
  {
   "cell_type": "code",
   "execution_count": 42,
   "id": "08b89a44",
   "metadata": {},
   "outputs": [
    {
     "data": {
      "text/plain": [
       "1"
      ]
     },
     "execution_count": 42,
     "metadata": {},
     "output_type": "execute_result"
    }
   ],
   "source": [
    "# Checking for duplicate values\n",
    "df.duplicated().sum()"
   ]
  },
  {
   "cell_type": "code",
   "execution_count": 43,
   "id": "0da6685a",
   "metadata": {},
   "outputs": [],
   "source": [
    "#Dropping the duplicate value\n",
    "df.drop_duplicates(inplace=True)"
   ]
  },
  {
   "cell_type": "code",
   "execution_count": 44,
   "id": "c252db67",
   "metadata": {},
   "outputs": [
    {
     "data": {
      "text/plain": [
       "0"
      ]
     },
     "execution_count": 44,
     "metadata": {},
     "output_type": "execute_result"
    }
   ],
   "source": [
    "#Ascertaining the number of duplicate values have been dropped\n",
    "df.duplicated().sum()\n"
   ]
  },
  {
   "cell_type": "code",
   "execution_count": 45,
   "id": "6ac3a479",
   "metadata": {},
   "outputs": [
    {
     "data": {
      "text/html": [
       "<div>\n",
       "<style scoped>\n",
       "    .dataframe tbody tr th:only-of-type {\n",
       "        vertical-align: middle;\n",
       "    }\n",
       "\n",
       "    .dataframe tbody tr th {\n",
       "        vertical-align: top;\n",
       "    }\n",
       "\n",
       "    .dataframe thead th {\n",
       "        text-align: right;\n",
       "    }\n",
       "</style>\n",
       "<table border=\"1\" class=\"dataframe\">\n",
       "  <thead>\n",
       "    <tr style=\"text-align: right;\">\n",
       "      <th></th>\n",
       "      <th>date</th>\n",
       "      <th>type</th>\n",
       "      <th>registration</th>\n",
       "      <th>operator</th>\n",
       "      <th>fatalities</th>\n",
       "      <th>location</th>\n",
       "      <th>country</th>\n",
       "      <th>cat</th>\n",
       "      <th>year</th>\n",
       "    </tr>\n",
       "  </thead>\n",
       "  <tbody>\n",
       "    <tr>\n",
       "      <th>4</th>\n",
       "      <td>date unk.</td>\n",
       "      <td>Antonov An-12BP</td>\n",
       "      <td>CCCP-11815</td>\n",
       "      <td>Soviet AF</td>\n",
       "      <td>0</td>\n",
       "      <td>Massawa Airport ...</td>\n",
       "      <td>Eritrea</td>\n",
       "      <td>A1</td>\n",
       "      <td>unknown</td>\n",
       "    </tr>\n",
       "    <tr>\n",
       "      <th>7</th>\n",
       "      <td>date unk.</td>\n",
       "      <td>Antonov An-2</td>\n",
       "      <td>CCCP-01216</td>\n",
       "      <td>Aeroflot</td>\n",
       "      <td>0</td>\n",
       "      <td>Chita region</td>\n",
       "      <td>Russia</td>\n",
       "      <td>A2</td>\n",
       "      <td>unknown</td>\n",
       "    </tr>\n",
       "    <tr>\n",
       "      <th>9</th>\n",
       "      <td>date unk.</td>\n",
       "      <td>Antonov An-26</td>\n",
       "      <td>01 red</td>\n",
       "      <td>Soviet AF</td>\n",
       "      <td>0</td>\n",
       "      <td>Orenburg Air Base</td>\n",
       "      <td>Russia</td>\n",
       "      <td>O1</td>\n",
       "      <td>unknown</td>\n",
       "    </tr>\n",
       "    <tr>\n",
       "      <th>10</th>\n",
       "      <td>date unk.</td>\n",
       "      <td>Antonov An-26</td>\n",
       "      <td>RA-47415</td>\n",
       "      <td>Russian AF</td>\n",
       "      <td>0</td>\n",
       "      <td>Belgorod Airport...</td>\n",
       "      <td>Russia</td>\n",
       "      <td>A1</td>\n",
       "      <td>unknown</td>\n",
       "    </tr>\n",
       "    <tr>\n",
       "      <th>13</th>\n",
       "      <td>date unk.</td>\n",
       "      <td>Antonov An-2R</td>\n",
       "      <td>-</td>\n",
       "      <td>PZL-Mielec</td>\n",
       "      <td>0</td>\n",
       "      <td>Mielec</td>\n",
       "      <td>Poland</td>\n",
       "      <td>O1</td>\n",
       "      <td>unknown</td>\n",
       "    </tr>\n",
       "    <tr>\n",
       "      <th>...</th>\n",
       "      <td>...</td>\n",
       "      <td>...</td>\n",
       "      <td>...</td>\n",
       "      <td>...</td>\n",
       "      <td>...</td>\n",
       "      <td>...</td>\n",
       "      <td>...</td>\n",
       "      <td>...</td>\n",
       "      <td>...</td>\n",
       "    </tr>\n",
       "    <tr>\n",
       "      <th>23962</th>\n",
       "      <td>11-MAY-2023</td>\n",
       "      <td>Hawker 900XP</td>\n",
       "      <td>PK-LRU</td>\n",
       "      <td>Angkasa Super Services</td>\n",
       "      <td>0</td>\n",
       "      <td>Maleo Airport (MOH)</td>\n",
       "      <td>Indonesia</td>\n",
       "      <td>A2</td>\n",
       "      <td>2023</td>\n",
       "    </tr>\n",
       "    <tr>\n",
       "      <th>23963</th>\n",
       "      <td>11-MAY-2023</td>\n",
       "      <td>Cessna 208B Grand Caravan</td>\n",
       "      <td>PK-NGA</td>\n",
       "      <td>Nasional Global Aviasi</td>\n",
       "      <td>0</td>\n",
       "      <td>Fentheik Airstrip</td>\n",
       "      <td>Indonesia</td>\n",
       "      <td>A2</td>\n",
       "      <td>2023</td>\n",
       "    </tr>\n",
       "    <tr>\n",
       "      <th>23964</th>\n",
       "      <td>12-MAY-2023</td>\n",
       "      <td>Cessna 208B Grand Caravan</td>\n",
       "      <td>5X-RBR</td>\n",
       "      <td>Bar Aviation</td>\n",
       "      <td>0</td>\n",
       "      <td>Kampala-Kajjansi...</td>\n",
       "      <td>Uganda</td>\n",
       "      <td>A1</td>\n",
       "      <td>2023</td>\n",
       "    </tr>\n",
       "    <tr>\n",
       "      <th>23965</th>\n",
       "      <td>14-MAY-2023</td>\n",
       "      <td>Boeing 747-4R7F</td>\n",
       "      <td>LX-OCV</td>\n",
       "      <td>Cargolux</td>\n",
       "      <td>0</td>\n",
       "      <td>Luxembourg-Finde...</td>\n",
       "      <td>Luxembourg</td>\n",
       "      <td>A2</td>\n",
       "      <td>2023</td>\n",
       "    </tr>\n",
       "    <tr>\n",
       "      <th>23966</th>\n",
       "      <td>15-MAY-2023</td>\n",
       "      <td>Learjet 35A</td>\n",
       "      <td>D-CGFQ</td>\n",
       "      <td>GFD</td>\n",
       "      <td>2</td>\n",
       "      <td>Hohn Air Base</td>\n",
       "      <td>Germany</td>\n",
       "      <td>A1</td>\n",
       "      <td>2023</td>\n",
       "    </tr>\n",
       "  </tbody>\n",
       "</table>\n",
       "<p>18642 rows × 9 columns</p>\n",
       "</div>"
      ],
      "text/plain": [
       "              date                       type registration  \\\n",
       "4        date unk.            Antonov An-12BP   CCCP-11815   \n",
       "7        date unk.               Antonov An-2   CCCP-01216   \n",
       "9        date unk.              Antonov An-26       01 red   \n",
       "10       date unk.              Antonov An-26     RA-47415   \n",
       "13       date unk.              Antonov An-2R            -   \n",
       "...            ...                        ...          ...   \n",
       "23962  11-MAY-2023               Hawker 900XP       PK-LRU   \n",
       "23963  11-MAY-2023  Cessna 208B Grand Caravan       PK-NGA   \n",
       "23964  12-MAY-2023  Cessna 208B Grand Caravan       5X-RBR   \n",
       "23965  14-MAY-2023            Boeing 747-4R7F       LX-OCV   \n",
       "23966  15-MAY-2023                Learjet 35A       D-CGFQ   \n",
       "\n",
       "                     operator fatalities             location     country cat  \\\n",
       "4                   Soviet AF          0  Massawa Airport ...     Eritrea  A1   \n",
       "7                    Aeroflot          0         Chita region      Russia  A2   \n",
       "9                   Soviet AF          0    Orenburg Air Base      Russia  O1   \n",
       "10                 Russian AF          0  Belgorod Airport...      Russia  A1   \n",
       "13                 PZL-Mielec          0               Mielec      Poland  O1   \n",
       "...                       ...        ...                  ...         ...  ..   \n",
       "23962  Angkasa Super Services          0  Maleo Airport (MOH)   Indonesia  A2   \n",
       "23963  Nasional Global Aviasi          0    Fentheik Airstrip   Indonesia  A2   \n",
       "23964            Bar Aviation          0  Kampala-Kajjansi...      Uganda  A1   \n",
       "23965                Cargolux          0  Luxembourg-Finde...  Luxembourg  A2   \n",
       "23966                     GFD          2        Hohn Air Base     Germany  A1   \n",
       "\n",
       "          year  \n",
       "4      unknown  \n",
       "7      unknown  \n",
       "9      unknown  \n",
       "10     unknown  \n",
       "13     unknown  \n",
       "...        ...  \n",
       "23962     2023  \n",
       "23963     2023  \n",
       "23964     2023  \n",
       "23965     2023  \n",
       "23966     2023  \n",
       "\n",
       "[18642 rows x 9 columns]"
      ]
     },
     "execution_count": 45,
     "metadata": {},
     "output_type": "execute_result"
    }
   ],
   "source": [
    "df"
   ]
  },
  {
   "cell_type": "code",
   "execution_count": 46,
   "id": "114c1de2",
   "metadata": {},
   "outputs": [
    {
     "data": {
      "text/html": [
       "<div>\n",
       "<style scoped>\n",
       "    .dataframe tbody tr th:only-of-type {\n",
       "        vertical-align: middle;\n",
       "    }\n",
       "\n",
       "    .dataframe tbody tr th {\n",
       "        vertical-align: top;\n",
       "    }\n",
       "\n",
       "    .dataframe thead th {\n",
       "        text-align: right;\n",
       "    }\n",
       "</style>\n",
       "<table border=\"1\" class=\"dataframe\">\n",
       "  <thead>\n",
       "    <tr style=\"text-align: right;\">\n",
       "      <th></th>\n",
       "      <th>date</th>\n",
       "      <th>type</th>\n",
       "      <th>registration</th>\n",
       "      <th>operator</th>\n",
       "      <th>fatalities</th>\n",
       "      <th>location</th>\n",
       "      <th>country</th>\n",
       "      <th>cat</th>\n",
       "      <th>year</th>\n",
       "    </tr>\n",
       "  </thead>\n",
       "  <tbody>\n",
       "    <tr>\n",
       "      <th>62</th>\n",
       "      <td>11-AUG-1919</td>\n",
       "      <td>Felixstowe Fury</td>\n",
       "      <td>N123</td>\n",
       "      <td>RAF</td>\n",
       "      <td>1</td>\n",
       "      <td>near Felixtowe RNAS</td>\n",
       "      <td>U.K.</td>\n",
       "      <td>A1</td>\n",
       "      <td>1919</td>\n",
       "    </tr>\n",
       "    <tr>\n",
       "      <th>63</th>\n",
       "      <td>23-FEB-1920</td>\n",
       "      <td>Handley Page O/7</td>\n",
       "      <td>G-EANV</td>\n",
       "      <td>Handley Page Transport</td>\n",
       "      <td>0</td>\n",
       "      <td>Acadia Siding, C...</td>\n",
       "      <td>South Africa</td>\n",
       "      <td>A1</td>\n",
       "      <td>1920</td>\n",
       "    </tr>\n",
       "    <tr>\n",
       "      <th>64</th>\n",
       "      <td>25-FEB-1920</td>\n",
       "      <td>Handley Page O/400</td>\n",
       "      <td>G-EAMC</td>\n",
       "      <td>Handley Page Transport</td>\n",
       "      <td>0</td>\n",
       "      <td>near El Shereik</td>\n",
       "      <td>Sudan</td>\n",
       "      <td>A1</td>\n",
       "      <td>1920</td>\n",
       "    </tr>\n",
       "    <tr>\n",
       "      <th>65</th>\n",
       "      <td>30-JUN-1920</td>\n",
       "      <td>Handley Page O/400</td>\n",
       "      <td>G-EAKE</td>\n",
       "      <td>Handley Page Transport</td>\n",
       "      <td>0</td>\n",
       "      <td>ÃstanÃ¥</td>\n",
       "      <td>Sweden</td>\n",
       "      <td>A1</td>\n",
       "      <td>1920</td>\n",
       "    </tr>\n",
       "    <tr>\n",
       "      <th>66</th>\n",
       "      <td>14-DEC-1920</td>\n",
       "      <td>Handley Page O/400</td>\n",
       "      <td>G-EAMA</td>\n",
       "      <td>Handley Page Transport</td>\n",
       "      <td>4</td>\n",
       "      <td>Golders Green</td>\n",
       "      <td>U.K.</td>\n",
       "      <td>A1</td>\n",
       "      <td>1920</td>\n",
       "    </tr>\n",
       "    <tr>\n",
       "      <th>...</th>\n",
       "      <td>...</td>\n",
       "      <td>...</td>\n",
       "      <td>...</td>\n",
       "      <td>...</td>\n",
       "      <td>...</td>\n",
       "      <td>...</td>\n",
       "      <td>...</td>\n",
       "      <td>...</td>\n",
       "      <td>...</td>\n",
       "    </tr>\n",
       "    <tr>\n",
       "      <th>23962</th>\n",
       "      <td>11-MAY-2023</td>\n",
       "      <td>Hawker 900XP</td>\n",
       "      <td>PK-LRU</td>\n",
       "      <td>Angkasa Super Services</td>\n",
       "      <td>0</td>\n",
       "      <td>Maleo Airport (MOH)</td>\n",
       "      <td>Indonesia</td>\n",
       "      <td>A2</td>\n",
       "      <td>2023</td>\n",
       "    </tr>\n",
       "    <tr>\n",
       "      <th>23963</th>\n",
       "      <td>11-MAY-2023</td>\n",
       "      <td>Cessna 208B Grand Caravan</td>\n",
       "      <td>PK-NGA</td>\n",
       "      <td>Nasional Global Aviasi</td>\n",
       "      <td>0</td>\n",
       "      <td>Fentheik Airstrip</td>\n",
       "      <td>Indonesia</td>\n",
       "      <td>A2</td>\n",
       "      <td>2023</td>\n",
       "    </tr>\n",
       "    <tr>\n",
       "      <th>23964</th>\n",
       "      <td>12-MAY-2023</td>\n",
       "      <td>Cessna 208B Grand Caravan</td>\n",
       "      <td>5X-RBR</td>\n",
       "      <td>Bar Aviation</td>\n",
       "      <td>0</td>\n",
       "      <td>Kampala-Kajjansi...</td>\n",
       "      <td>Uganda</td>\n",
       "      <td>A1</td>\n",
       "      <td>2023</td>\n",
       "    </tr>\n",
       "    <tr>\n",
       "      <th>23965</th>\n",
       "      <td>14-MAY-2023</td>\n",
       "      <td>Boeing 747-4R7F</td>\n",
       "      <td>LX-OCV</td>\n",
       "      <td>Cargolux</td>\n",
       "      <td>0</td>\n",
       "      <td>Luxembourg-Finde...</td>\n",
       "      <td>Luxembourg</td>\n",
       "      <td>A2</td>\n",
       "      <td>2023</td>\n",
       "    </tr>\n",
       "    <tr>\n",
       "      <th>23966</th>\n",
       "      <td>15-MAY-2023</td>\n",
       "      <td>Learjet 35A</td>\n",
       "      <td>D-CGFQ</td>\n",
       "      <td>GFD</td>\n",
       "      <td>2</td>\n",
       "      <td>Hohn Air Base</td>\n",
       "      <td>Germany</td>\n",
       "      <td>A1</td>\n",
       "      <td>2023</td>\n",
       "    </tr>\n",
       "  </tbody>\n",
       "</table>\n",
       "<p>18626 rows × 9 columns</p>\n",
       "</div>"
      ],
      "text/plain": [
       "              date                       type registration  \\\n",
       "62     11-AUG-1919            Felixstowe Fury         N123   \n",
       "63     23-FEB-1920           Handley Page O/7       G-EANV   \n",
       "64     25-FEB-1920         Handley Page O/400       G-EAMC   \n",
       "65     30-JUN-1920         Handley Page O/400       G-EAKE   \n",
       "66     14-DEC-1920         Handley Page O/400       G-EAMA   \n",
       "...            ...                        ...          ...   \n",
       "23962  11-MAY-2023               Hawker 900XP       PK-LRU   \n",
       "23963  11-MAY-2023  Cessna 208B Grand Caravan       PK-NGA   \n",
       "23964  12-MAY-2023  Cessna 208B Grand Caravan       5X-RBR   \n",
       "23965  14-MAY-2023            Boeing 747-4R7F       LX-OCV   \n",
       "23966  15-MAY-2023                Learjet 35A       D-CGFQ   \n",
       "\n",
       "                     operator fatalities             location       country  \\\n",
       "62                        RAF          1  near Felixtowe RNAS          U.K.   \n",
       "63     Handley Page Transport          0  Acadia Siding, C...  South Africa   \n",
       "64     Handley Page Transport          0      near El Shereik         Sudan   \n",
       "65     Handley Page Transport          0             ÃstanÃ¥        Sweden   \n",
       "66     Handley Page Transport          4        Golders Green          U.K.   \n",
       "...                       ...        ...                  ...           ...   \n",
       "23962  Angkasa Super Services          0  Maleo Airport (MOH)     Indonesia   \n",
       "23963  Nasional Global Aviasi          0    Fentheik Airstrip     Indonesia   \n",
       "23964            Bar Aviation          0  Kampala-Kajjansi...        Uganda   \n",
       "23965                Cargolux          0  Luxembourg-Finde...    Luxembourg   \n",
       "23966                     GFD          2        Hohn Air Base       Germany   \n",
       "\n",
       "      cat  year  \n",
       "62     A1  1919  \n",
       "63     A1  1920  \n",
       "64     A1  1920  \n",
       "65     A1  1920  \n",
       "66     A1  1920  \n",
       "...    ..   ...  \n",
       "23962  A2  2023  \n",
       "23963  A2  2023  \n",
       "23964  A1  2023  \n",
       "23965  A2  2023  \n",
       "23966  A1  2023  \n",
       "\n",
       "[18626 rows x 9 columns]"
      ]
     },
     "execution_count": 46,
     "metadata": {},
     "output_type": "execute_result"
    }
   ],
   "source": [
    "#Getting rid of the unkown years\n",
    "df=df[df['year'] != 'unknown']\n",
    "df"
   ]
  },
  {
   "cell_type": "code",
   "execution_count": 47,
   "id": "eaf7b162",
   "metadata": {},
   "outputs": [
    {
     "data": {
      "text/plain": [
       "array(['U.K.', 'South Africa', 'Sudan', 'Sweden', 'India', 'France',\n",
       "       'Belgium', 'Netherlands', 'Atlantic Ocean', 'Germany', 'USA',\n",
       "       'Italy', 'Cuba', 'Iran', 'Chile', 'Israel', 'Argentina',\n",
       "       'Nicaragua', 'Czech Rep.', 'Dominican Rep.', 'Brazil',\n",
       "       'Mediterranean Sea', 'Indonesia', 'Egypt', 'Honduras', 'Bolivia',\n",
       "       'Spain', 'Peru', 'Australia', 'Poland', 'Iraq', 'Mexico', 'Russia',\n",
       "       'Malta', 'Colombia', 'Switzerland', 'Austria', 'China',\n",
       "       'Trinidad & Tobago', 'Norway', 'Greece', 'Libya', 'Guatemala',\n",
       "       'Algeria', 'Pakistan', 'Panama', 'Romania', 'Morocco', 'Bulgaria',\n",
       "       'Pacific Ocean', 'Jamaica', 'Kenya', 'Hungary', 'Canada', 'Gambia',\n",
       "       'Philippines', 'Japan', 'Ecuador', 'Puerto Rico', 'Venezuela',\n",
       "       'Mozambique', 'Singapore', 'Myanmar', 'Djibouti', 'Gibraltar',\n",
       "       'Indian Ocean', 'Denmark', 'Finland', 'Estonia', 'Vietnam',\n",
       "       'Tanzania', 'Iceland', 'Benin', 'Costa Rica', 'Portugal',\n",
       "       'P.N. Guinea', 'Uzbekistan', 'Ethiopia', 'Nigeria', 'Belarus',\n",
       "       'Ukraine', 'Turkmenistan', 'Ireland', 'Hong Kong', 'Kazakhstan',\n",
       "       'Bangladesh', 'Sierra Leone', 'U.S. M.O. Islands',\n",
       "       'Unknown country', 'Mauritania', 'Vanuatu', 'New Caledonia',\n",
       "       'Serbia', 'Greenland', 'C.A.R.', 'Bermuda', 'Mali', 'Suriname',\n",
       "       'Tunisia', 'Kiribati', 'Eritrea', 'Armenia', 'Solomon Isl.',\n",
       "       'Oman', 'New Zealand', 'Croatia', 'Ghana', 'Fiji', 'Albania',\n",
       "       'Sri Lanka', 'Maldives', 'Bahrain', 'Palau', 'Micronesia',\n",
       "       'Azerbaijan', 'Bhutan', 'Eq. Guinea', 'Slovakia', 'Bosnia',\n",
       "       'Tajikistan', 'Cocos Isl.', 'U.A.E.', 'Martinique', 'Guam',\n",
       "       'Thailand', 'Malaysia', 'Uruguay', 'Cambodia', 'St. Helena',\n",
       "       'Tuvalu', 'Senegal', \"Cote d'Ivoire\", 'Marshall Isl.',\n",
       "       'Madagascar', 'Nepal', 'Slovenia', 'Antarctica', 'Georgia',\n",
       "       'Zimbabwe', 'Uganda', 'South Sudan', 'El Salvador', 'Syria',\n",
       "       'Cameroon', 'Montenegro', 'Turkey', 'D.R. Congo',\n",
       "       'North Macedonia', 'Bahamas', 'Guyana', 'Burkina Faso',\n",
       "       'South Korea', 'Angola', 'North Korea', 'Yemen', 'Arctic Ocean',\n",
       "       'Samoa', 'Niger', 'Taiwan', 'Laos', 'Latvia', 'Jordan', 'Liberia',\n",
       "       'Zambia', 'Chad', 'Cayman Isl.', 'Lebanon', 'Saudi Arabia',\n",
       "       'Cyprus', 'Northern Mariana Isl', 'Christmas Isl.', 'Kuwait',\n",
       "       'Paraguay', 'Somalia', 'French Polynesia', 'Malawi', 'Haiti',\n",
       "       'St. Kitts & Nevis', 'Lithuania', 'Mauritius',\n",
       "       'St.Pierre & Miquelon', 'Afghanistan', 'Belize', 'Guadeloupe',\n",
       "       'Sao Tome', 'Turks & Caicos', 'Moldova', 'Botswana', 'Kyrgyzstan',\n",
       "       'Montserrat', 'Falkland Isl.', 'Comoros', 'Reunion', 'Namibia',\n",
       "       'Guinea-Bissau', 'U.S. Virgin Isl.', 'Luxembourg', 'B.V.I.',\n",
       "       'Mongolia', 'Gabon', 'Monaco', 'Sint Maarten', 'Saint Lucia',\n",
       "       'Togo', 'American Samoa', 'Timor', 'Seychelles', 'Aruba',\n",
       "       'Barbados', 'CuraÃ§ao', 'Western Sahara', 'Congo', 'Guinea',\n",
       "       'Qatar', 'Lesotho', 'St. Vincent', 'Cook Isl.', 'Rwanda',\n",
       "       'Dominica', 'French Guiana', 'Antigua', 'Cape Verde',\n",
       "       'Norfolk Island', 'Kosovo', 'Anguilla', 'Saint BarthÃ©lemy',\n",
       "       'Burundi', 'Eswatini', \"Caribbean Neth'lands\", 'Macau'],\n",
       "      dtype=object)"
      ]
     },
     "execution_count": 47,
     "metadata": {},
     "output_type": "execute_result"
    }
   ],
   "source": [
    "df.country.unique()"
   ]
  },
  {
   "cell_type": "code",
   "execution_count": 48,
   "id": "ec09041f",
   "metadata": {},
   "outputs": [
    {
     "data": {
      "text/plain": [
       "array(['RAF', 'Handley Page Transport', 'HP Indo-Burmese Transport', ...,\n",
       "       'Angkasa Super Services', 'Nasional Global Aviasi', 'Bar Aviation'],\n",
       "      dtype=object)"
      ]
     },
     "execution_count": 48,
     "metadata": {},
     "output_type": "execute_result"
    }
   ],
   "source": [
    "df.operator.unique()"
   ]
  },
  {
   "cell_type": "markdown",
   "id": "a538245e",
   "metadata": {},
   "source": [
    "# DATA ANALYSIS AND VISUALIZATION\n",
    "\n",
    "After the data cleaning, I can now analyse the data getting information about the aircrafts and operators with the less accidents"
   ]
  },
  {
   "cell_type": "code",
   "execution_count": 49,
   "id": "8c07a19b",
   "metadata": {},
   "outputs": [
    {
     "name": "stderr",
     "output_type": "stream",
     "text": [
      "<ipython-input-49-4358701cf1a2>:1: SettingWithCopyWarning: \n",
      "A value is trying to be set on a copy of a slice from a DataFrame.\n",
      "Try using .loc[row_indexer,col_indexer] = value instead\n",
      "\n",
      "See the caveats in the documentation: https://pandas.pydata.org/pandas-docs/stable/user_guide/indexing.html#returning-a-view-versus-a-copy\n",
      "  df['year'] = df['year'].astype(int)\n"
     ]
    }
   ],
   "source": [
    "df['year'] = df['year'].astype(int)"
   ]
  },
  {
   "cell_type": "code",
   "execution_count": 50,
   "id": "b9d685c6",
   "metadata": {},
   "outputs": [
    {
     "data": {
      "text/plain": [
       "1919      1\n",
       "1920      4\n",
       "1921      4\n",
       "1922      2\n",
       "1923      5\n",
       "       ... \n",
       "2019    235\n",
       "2020    190\n",
       "2021    172\n",
       "2022    163\n",
       "2023     55\n",
       "Name: year, Length: 105, dtype: int64"
      ]
     },
     "execution_count": 50,
     "metadata": {},
     "output_type": "execute_result"
    }
   ],
   "source": [
    "accidents_per_year=df['year'].value_counts().sort_index()\n",
    "accidents_per_year"
   ]
  },
  {
   "cell_type": "code",
   "execution_count": 51,
   "id": "1711a39b",
   "metadata": {},
   "outputs": [
    {
     "data": {
      "image/png": "[encoded data removed]",
      "text/plain": [
       "<Figure size 432x288 with 1 Axes>"
      ]
     },
     "metadata": {
      "needs_background": "light"
     },
     "output_type": "display_data"
    }
   ],
   "source": [
    "#creating a plot to visualize the number of accidents per year\n",
    "plt.plot(accidents_per_year.index, accidents_per_year.values)\n",
    "plt.xlabel('Year')\n",
    "plt.ylabel('Number of Accidents')\n",
    "plt.title('Number of Aviation Accidents per Year')\n",
    "plt.show()"
   ]
  },
  {
   "cell_type": "code",
   "execution_count": 52,
   "id": "5240313e",
   "metadata": {},
   "outputs": [
    {
     "name": "stderr",
     "output_type": "stream",
     "text": [
      "<ipython-input-52-5687291f3efe>:2: SettingWithCopyWarning: \n",
      "A value is trying to be set on a copy of a slice from a DataFrame.\n",
      "Try using .loc[row_indexer,col_indexer] = value instead\n",
      "\n",
      "See the caveats in the documentation: https://pandas.pydata.org/pandas-docs/stable/user_guide/indexing.html#returning-a-view-versus-a-copy\n",
      "  df['fatalities'] = pd.to_numeric(df['fatalities'], errors='coerce')\n"
     ]
    }
   ],
   "source": [
    "#changing the datatype of fatalities to numeric\n",
    "df['fatalities'] = pd.to_numeric(df['fatalities'], errors='coerce')"
   ]
  },
  {
   "cell_type": "code",
   "execution_count": 53,
   "id": "19476a00",
   "metadata": {},
   "outputs": [
    {
     "data": {
      "text/plain": [
       "year\n",
       "1919      1.0\n",
       "1920      4.0\n",
       "1921      2.0\n",
       "1922      5.0\n",
       "1923      7.0\n",
       "        ...  \n",
       "2019    419.0\n",
       "2020    330.0\n",
       "2021    268.0\n",
       "2022    276.0\n",
       "2023     88.0\n",
       "Name: fatalities, Length: 105, dtype: float64"
      ]
     },
     "execution_count": 53,
     "metadata": {},
     "output_type": "execute_result"
    }
   ],
   "source": [
    "fatalities_per_year=df.groupby('year')['fatalities'].sum()\n",
    "fatalities_per_year"
   ]
  },
  {
   "cell_type": "code",
   "execution_count": 54,
   "id": "96629853",
   "metadata": {},
   "outputs": [
    {
     "data": {
      "image/png": "[encoded data removed]",
      "text/plain": [
       "<Figure size 432x288 with 1 Axes>"
      ]
     },
     "metadata": {
      "needs_background": "light"
     },
     "output_type": "display_data"
    }
   ],
   "source": [
    "#Plotting the fatalities per year\n",
    "plt.plot(fatalities_per_year.index, fatalities_per_year.values, color='red')\n",
    "plt.xlabel('Year')  \n",
    "plt.ylabel('Number of Fatalities')\n",
    "plt.title('Number of Fatalities per Year')\n",
    "plt.show()"
   ]
  },
  {
   "cell_type": "code",
   "execution_count": 55,
   "id": "b24b2263",
   "metadata": {},
   "outputs": [
    {
     "data": {
      "image/png": "[encoded data removed]",
      "text/plain": [
       "<Figure size 864x432 with 1 Axes>"
      ]
     },
     "metadata": {
      "needs_background": "light"
     },
     "output_type": "display_data"
    }
   ],
   "source": [
    "#plotting operator against accidents\n",
    "operator_counts = df['operator'].value_counts().head(10)\n",
    "plt.figure(figsize=(12,6))\n",
    "sns.barplot(x=operator_counts.index, y=operator_counts.values, palette='viridis')\n",
    "plt.xlabel('Operator')\n",
    "plt.ylabel('Number of Accidents')\n",
    "plt.title('Operators by Number of Accidents')\n",
    "plt.show()"
   ]
  },
  {
   "cell_type": "code",
   "execution_count": 56,
   "id": "c56861aa",
   "metadata": {},
   "outputs": [
    {
     "data": {
      "image/png": "[encoded data removed]",
      "text/plain": [
       "<Figure size 864x432 with 1 Axes>"
      ]
     },
     "metadata": {
      "needs_background": "light"
     },
     "output_type": "display_data"
    }
   ],
   "source": [
    "#plotting type of aircraft against accidents caused\n",
    "aircraft_counts = df['type'].value_counts().head(10)\n",
    "plt.figure(figsize=(12,6))\n",
    "sns.barplot(x=aircraft_counts.index, y=aircraft_counts.values, palette='magma')\n",
    "plt.xlabel('Aircraft Type')\n",
    "plt.ylabel('Number of Accidents')\n",
    "plt.title('Aircraft Types by Number of Accidents')\n",
    "plt.xticks(rotation=45)\n",
    "plt.show()"
   ]
  },
  {
   "cell_type": "code",
   "execution_count": 57,
   "id": "1d4be2da",
   "metadata": {},
   "outputs": [],
   "source": [
    "df.to_csv('cleaned_aviation_data.csv', index=False)"
   ]
  },
  {
   "cell_type": "markdown",
   "id": "2086734a",
   "metadata": {},
   "source": [
    "# CONCLUSION\n",
    "\n",
    "The high accident rate between 1940 and 1945 was due to the World War II. This explains why the United States Airforce (USAF) and United States Army Airforce (USAAF) had the highest number of accidents since the United States actively Participated in the WorldWar. The aircraft Douglas C-47A (DC-3) recorded the highest number of accidents since it was one of the most important aircraft of the World War II therefore often used. "
   ]
  }
 ],
 "metadata": {
  "kernelspec": {
   "display_name": "learn-env",
   "language": "python",
   "name": "python3"
  },
  "language_info": {
   "codemirror_mode": {
    "name": "ipython",
    "version": 3
   },
   "file_extension": ".py",
   "mimetype": "text/x-python",
   "name": "python",
   "nbconvert_exporter": "python",
   "pygments_lexer": "ipython3",
   "version": "3.8.5"
  }
 },
 "nbformat": 4,
 "nbformat_minor": 5
}
